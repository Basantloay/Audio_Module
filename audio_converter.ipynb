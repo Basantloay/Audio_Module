{
 "cells": [
  {
   "cell_type": "code",
   "execution_count": 1,
   "id": "b4494ab7",
   "metadata": {},
   "outputs": [],
   "source": [
    "import moviepy.editor\n",
    "from tkinter.filedialog import *"
   ]
  },
  {
   "cell_type": "code",
   "execution_count": null,
   "id": "b575c216",
   "metadata": {},
   "outputs": [
    {
     "name": "stdout",
     "output_type": "stream",
     "text": [
      "MoviePy - Writing audio in test1.mp3\n"
     ]
    },
    {
     "name": "stderr",
     "output_type": "stream",
     "text": [
      "chunk:  96%|████████████████████████████████████████████████████████▌  | 9095/9493 [00:07<00:00, 1278.29it/s, now=None]"
     ]
    }
   ],
   "source": [
    "#video = askopenfilename()\n",
    "video_name= 'video1.mp4'\n",
    "video = moviepy.editor.VideoFileClip(video_name)\n",
    "audio = video.audio\n",
    "\n",
    "audio.write_audiofile('test1.mp3')\n",
    "print('DONE!!!')"
   ]
  },
  {
   "cell_type": "code",
   "execution_count": null,
   "id": "49b3784d",
   "metadata": {},
   "outputs": [],
   "source": []
  }
 ],
 "metadata": {
  "kernelspec": {
   "display_name": "Python 3 (ipykernel)",
   "language": "python",
   "name": "python3"
  },
  "language_info": {
   "codemirror_mode": {
    "name": "ipython",
    "version": 3
   },
   "file_extension": ".py",
   "mimetype": "text/x-python",
   "name": "python",
   "nbconvert_exporter": "python",
   "pygments_lexer": "ipython3",
   "version": "3.10.2"
  }
 },
 "nbformat": 4,
 "nbformat_minor": 5
}
