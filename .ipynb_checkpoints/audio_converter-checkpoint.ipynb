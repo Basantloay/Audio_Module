{
 "cells": [
  {
   "cell_type": "code",
   "execution_count": 2,
   "id": "6ef6f042",
   "metadata": {},
   "outputs": [],
   "source": [
    "import moviepy.editor\n",
    "from tkinter.filedialog import *"
   ]
  },
  {
   "cell_type": "code",
   "execution_count": null,
   "id": "98284239",
   "metadata": {},
   "outputs": [],
   "source": [
    "video = askopenfilename()\n",
    "video = moviepy.editor.VideoFileClip(video)\n",
    "audio = video.audio\n",
    "\n",
    "audio.write_audiofile('test1.mp3')\n",
    "print('DONE!!!')"
   ]
  }
 ],
 "metadata": {
  "kernelspec": {
   "display_name": "Python 3 (ipykernel)",
   "language": "python",
   "name": "python3"
  },
  "language_info": {
   "codemirror_mode": {
    "name": "ipython",
    "version": 3
   },
   "file_extension": ".py",
   "mimetype": "text/x-python",
   "name": "python",
   "nbconvert_exporter": "python",
   "pygments_lexer": "ipython3",
   "version": "3.10.2"
  }
 },
 "nbformat": 4,
 "nbformat_minor": 5
}
